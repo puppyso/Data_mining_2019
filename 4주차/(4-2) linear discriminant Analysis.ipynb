{
 "cells": [
  {
   "cell_type": "code",
   "execution_count": null,
   "metadata": {},
   "outputs": [],
   "source": [
    "#파일 열기\n",
    "import pandas as pd\n",
    "import numpy as np\n",
    "cell = pd.read_csv('cell_samples_string.csv')\n",
    "\n",
    "#어떻게 생긴 데이터일까\n",
    "cell[0:10]"
   ]
  },
  {
   "cell_type": "code",
   "execution_count": null,
   "metadata": {},
   "outputs": [],
   "source": [
    "#기술통계량 확인\n",
    "cell.describe()"
   ]
  },
  {
   "cell_type": "code",
   "execution_count": null,
   "metadata": {},
   "outputs": [],
   "source": [
    "#히스토그램 그리기\n",
    "cell.hist()"
   ]
  },
  {
   "cell_type": "code",
   "execution_count": null,
   "metadata": {},
   "outputs": [],
   "source": [
    "#상관관계 확인하기\n",
    "cell.corr()"
   ]
  },
  {
   "cell_type": "code",
   "execution_count": null,
   "metadata": {},
   "outputs": [],
   "source": [
    "#선형판별분석 모델 만들기\n",
    "from sklearn.discriminant_analysis import LinearDiscriminantAnalysis\n",
    "x = cell.iloc[:, 0:10]\n",
    "y = cell['Class']\n",
    "lda = LinearDiscriminantAnalysis()\n",
    "lda.fit(x, y)"
   ]
  },
  {
   "cell_type": "code",
   "execution_count": null,
   "metadata": {},
   "outputs": [],
   "source": [
    "#판별 결과 보기\n",
    "result = lda.predict(x)\n",
    "result"
   ]
  },
  {
   "cell_type": "code",
   "execution_count": null,
   "metadata": {},
   "outputs": [],
   "source": [
    "#산포도 확인(어떻게 lda로 새로 만들어진 칼럼을 확인할 수 있지?)\n",
    "import matplotlib.pylab as plt\n"
   ]
  },
  {
   "cell_type": "code",
   "execution_count": null,
   "metadata": {},
   "outputs": [],
   "source": [
    "#가능성 확인 (근데 array면 가능성 높은 행부터 어떻게 정렬하지? 정렬하면 id가 섞이잖아...)\n",
    "lda.predict_proba(x)"
   ]
  }
 ],
 "metadata": {
  "kernelspec": {
   "display_name": "Python 3",
   "language": "python",
   "name": "python3"
  },
  "language_info": {
   "codemirror_mode": {
    "name": "ipython",
    "version": 3
   },
   "file_extension": ".py",
   "mimetype": "text/x-python",
   "name": "python",
   "nbconvert_exporter": "python",
   "pygments_lexer": "ipython3",
   "version": "3.7.1"
  }
 },
 "nbformat": 4,
 "nbformat_minor": 2
}
