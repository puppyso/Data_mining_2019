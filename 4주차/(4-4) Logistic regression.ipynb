{
 "cells": [
  {
   "cell_type": "code",
   "execution_count": null,
   "metadata": {},
   "outputs": [],
   "source": [
    "#파일 불러오기\n",
    "import pandas as pd\n",
    "import numpy as np\n",
    "churn = pd.read_csv('churn123.txt')\n",
    "\n",
    "#어케생겻나 볼까\n",
    "churn[0:10]"
   ]
  },
  {
   "cell_type": "code",
   "execution_count": null,
   "metadata": {},
   "outputs": [],
   "source": [
    "#기초통계량 확인\n",
    "churn.describe()"
   ]
  },
  {
   "cell_type": "code",
   "execution_count": null,
   "metadata": {},
   "outputs": [],
   "source": [
    "#히스토그램 그리기\n",
    "churn.hist()"
   ]
  },
  {
   "cell_type": "code",
   "execution_count": null,
   "metadata": {},
   "outputs": [],
   "source": [
    "#상관관계 확인\n",
    "import seaborn as sns\n",
    "sns.heatmap(churn.corr())\n",
    "churn.corr()"
   ]
  },
  {
   "cell_type": "code",
   "execution_count": null,
   "metadata": {},
   "outputs": [],
   "source": [
    "#칼럼명 확인\n",
    "print(churn.columns)\n",
    "\n",
    "#타겟 칼럼 집단 확인\n",
    "print(churn['CHURNED'].unique())"
   ]
  },
  {
   "cell_type": "code",
   "execution_count": null,
   "metadata": {},
   "outputs": [],
   "source": [
    "#데이터 필드 생성\n",
    "leaver = []\n",
    "for each in churn['CHURNED']:\n",
    "        if each == \"'Vol'\":\n",
    "            leaver.append(1)\n",
    "        else:\n",
    "            leaver.append(0)\n",
    "churn['leaver'] = leaver\n",
    "churn[0:10]"
   ]
  },
  {
   "cell_type": "code",
   "execution_count": null,
   "metadata": {},
   "outputs": [],
   "source": [
    "#명목변수 더미변수로 변환\n",
    "churn1 = churn.drop(['train','CHURNED'], axis=1)\n",
    "\n",
    "from category_encoders import *\n",
    "enc = BinaryEncoder(cols=['PAY_MTHD', 'LocalBillType', 'LongDistanceBillType','SEX', 'STATUS', 'Est_Income', 'Car_Owner']).fit(churn1)\n",
    "churn2 = enc.transform(churn1)\n",
    "\n",
    "#확인\n",
    "churn2.columns"
   ]
  },
  {
   "cell_type": "code",
   "execution_count": null,
   "metadata": {},
   "outputs": [],
   "source": [
    "#데이터 정규화(z-score)\n",
    "from scipy import stats\n",
    "churn3 = stats.zscore(churn2)\n",
    "\n",
    "#0, 11(전부 0인 값), -1(leaver)번째 칼럼 삭제\n",
    "churn4 = np.delete(churn3, [0, 11, -1], axis=1)\n",
    "churn4[0:10]"
   ]
  },
  {
   "cell_type": "code",
   "execution_count": null,
   "metadata": {},
   "outputs": [],
   "source": [
    "#데이터 분리(X, Y)\n",
    "X = np.delete(churn4, -1, axis=1)\n",
    "Y = churn2.iloc[:, -1]"
   ]
  },
  {
   "cell_type": "code",
   "execution_count": null,
   "metadata": {},
   "outputs": [],
   "source": [
    "#데이터 분리(학습/검증)\n",
    "from sklearn.model_selection import train_test_split\n",
    "x_train, x_test, y_train, y_test = train_test_split(X, Y, test_size = 0.3, random_state = 0)"
   ]
  },
  {
   "cell_type": "code",
   "execution_count": null,
   "metadata": {},
   "outputs": [],
   "source": [
    "#로지스틱 회귀분석 실시\n",
    "from sklearn.linear_model import LogisticRegression\n",
    "log = LogisticRegression() \n",
    "log.fit(x_train,y_train) \n",
    "\n",
    "#정확도 확인\n",
    "log.score(x_test, y_test)"
   ]
  }
 ],
 "metadata": {
  "kernelspec": {
   "display_name": "Python 3",
   "language": "python",
   "name": "python3"
  },
  "language_info": {
   "codemirror_mode": {
    "name": "ipython",
    "version": 3
   },
   "file_extension": ".py",
   "mimetype": "text/x-python",
   "name": "python",
   "nbconvert_exporter": "python",
   "pygments_lexer": "ipython3",
   "version": "3.7.1"
  }
 },
 "nbformat": 4,
 "nbformat_minor": 2
}
