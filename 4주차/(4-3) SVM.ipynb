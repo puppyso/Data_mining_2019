{
 "cells": [
  {
   "cell_type": "code",
   "execution_count": null,
   "metadata": {},
   "outputs": [],
   "source": [
    "#파일 열기\n",
    "import pandas as pd\n",
    "import numpy as np\n",
    "vehicle = pd.read_csv('vehicle.csv')\n",
    "\n",
    "#어떻게 생겼나 볼까?\n",
    "vehicle[0:10]"
   ]
  },
  {
   "cell_type": "code",
   "execution_count": null,
   "metadata": {},
   "outputs": [],
   "source": [
    "#기초통계량 확인\n",
    "vehicle.describe()"
   ]
  },
  {
   "cell_type": "code",
   "execution_count": null,
   "metadata": {},
   "outputs": [],
   "source": [
    "#히스토그램 그리기\n",
    "vehicle.hist()"
   ]
  },
  {
   "cell_type": "code",
   "execution_count": null,
   "metadata": {},
   "outputs": [],
   "source": [
    "#상관관계 확인\n",
    "import seaborn as sns\n",
    "sns.heatmap(vehicle.corr())\n",
    "vehicle.corr()"
   ]
  },
  {
   "cell_type": "code",
   "execution_count": null,
   "metadata": {},
   "outputs": [],
   "source": [
    "#데이터 분리(X, Y)\n",
    "X = vehicle.drop(['row ID', 'Col18'], axis=1)\n",
    "Y = vehicle.iloc[:, -1]"
   ]
  },
  {
   "cell_type": "code",
   "execution_count": null,
   "metadata": {},
   "outputs": [],
   "source": [
    "#데이터 분리(학습/검증)\n",
    "from sklearn.model_selection import train_test_split\n",
    "x_train, x_test, y_train, y_test = train_test_split(X, Y, test_size = 0.2, random_state = 0)"
   ]
  },
  {
   "cell_type": "code",
   "execution_count": null,
   "metadata": {},
   "outputs": [],
   "source": [
    "#모델 만들기(rbf kernel)\n",
    "from sklearn import svm\n",
    "rbf = svm.SVC(gamma = 'auto') #gamma가 뭔지 모르겠고 sigma랑 관련있는것같은데 어떻게 관련있는지 모르겠고\n",
    "rbf1 = rbf.fit(x_train, y_train)\n",
    "rbf1"
   ]
  },
  {
   "cell_type": "code",
   "execution_count": null,
   "metadata": {},
   "outputs": [],
   "source": [
    "#검증 데이터 사용하여 분류하기\n",
    "y_pred = rbf1.predict(x_test)"
   ]
  },
  {
   "cell_type": "code",
   "execution_count": null,
   "metadata": {},
   "outputs": [],
   "source": [
    "#rbf1 모델 평가\n",
    "from sklearn.metrics import accuracy_score\n",
    "accuracy_score(y_test, y_pred)"
   ]
  },
  {
   "cell_type": "code",
   "execution_count": null,
   "metadata": {},
   "outputs": [],
   "source": [
    "#학습모델 개선(커널함수 = polynominal kernel)\n",
    "poly = svm.SVC(kernel = 'poly', gamma = 1.0, degree = 1.0) #degree = (수업자료의) power \n",
    "poly1 = poly.fit(x_train, y_train)                         #bias는 어케 설정하지??\n",
    "\n",
    "#모델 평가\n",
    "y_poly = poly1.predict(x_test)\n",
    "accuracy_score(y_test, y_poly)\n",
    "#엥 위에꺼보다 왜케높아??? 이럴수가 있나??? 옵션값이 잘못됐나??"
   ]
  },
  {
   "cell_type": "code",
   "execution_count": null,
   "metadata": {},
   "outputs": [],
   "source": [
    "#학습모델 개선(커널함수 = hypertangent)\n",
    "sig = svm.SVC(kernel = 'sigmoid', gamma = 1.0) #kappa, delta 어케 설정함?\n",
    "sig1 = sig.fit(x_train, y_train)\n",
    "\n",
    "#모델 평가\n",
    "y_sig = sig1.predict(x_test)\n",
    "accuracy_score(y_test, y_sig)\n",
    "#...?? 아니 정확도가 이렇게 차이난다고...?? 옵션값 때문일텐데 어케바꿈....?"
   ]
  },
  {
   "cell_type": "code",
   "execution_count": null,
   "metadata": {},
   "outputs": [],
   "source": [
    "#여튼 poly가 젤 정확도 높길래 그걸로 다음 단계 진행함;;\n",
    "#학습모델 개선(small 손실함수) \n",
    "poly_small = svm.SVC(kernel = 'poly', gamma = 1.0, degree = 1.0, C = 0.1) #degree = (수업자료의) power, C = penalty\n",
    "poly2 = poly_small.fit(x_train, y_train)                                  #bias는 어케 설정하지??\n",
    "\n",
    "#모델 평가\n",
    "y_poly2 = poly2.predict(x_test)\n",
    "accuracy_score(y_test, y_poly2)"
   ]
  },
  {
   "cell_type": "code",
   "execution_count": null,
   "metadata": {},
   "outputs": [],
   "source": [
    "#학습모델 개선(large 손실함수) \n",
    "poly_large = svm.SVC(kernel = 'poly', gamma = 1.0, degree = 1.0, C = 3.0) #degree = (수업자료의) power, C = penalty\n",
    "poly3 = poly_large.fit(x_train, y_train)                                  #bias는 어케 설정하지??\n",
    "\n",
    "#모델 평가\n",
    "y_poly3 = poly_large.predict(x_test)\n",
    "accuracy_score(y_test, y_poly3)"
   ]
  }
 ],
 "metadata": {
  "kernelspec": {
   "display_name": "Python 3",
   "language": "python",
   "name": "python3"
  },
  "language_info": {
   "codemirror_mode": {
    "name": "ipython",
    "version": 3
   },
   "file_extension": ".py",
   "mimetype": "text/x-python",
   "name": "python",
   "nbconvert_exporter": "python",
   "pygments_lexer": "ipython3",
   "version": "3.7.1"
  }
 },
 "nbformat": 4,
 "nbformat_minor": 2
}
